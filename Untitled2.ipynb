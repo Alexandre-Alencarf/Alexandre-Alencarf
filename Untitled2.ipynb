{
  "nbformat": 4,
  "nbformat_minor": 0,
  "metadata": {
    "colab": {
      "provenance": [],
      "authorship_tag": "ABX9TyPTeqEzkOBApkhCzh5cHjsF",
      "include_colab_link": true
    },
    "kernelspec": {
      "name": "python3",
      "display_name": "Python 3"
    },
    "language_info": {
      "name": "python"
    }
  },
  "cells": [
    {
      "cell_type": "markdown",
      "metadata": {
        "id": "view-in-github",
        "colab_type": "text"
      },
      "source": [
        "<a href=\"https://colab.research.google.com/github/Alexandre-Alencarf/Alexandre-Alencarf/blob/main/Untitled2.ipynb\" target=\"_parent\"><img src=\"https://colab.research.google.com/assets/colab-badge.svg\" alt=\"Open In Colab\"/></a>"
      ]
    },
    {
      "cell_type": "code",
      "execution_count": 3,
      "metadata": {
        "colab": {
          "base_uri": "https://localhost:8080/"
        },
        "id": "v_T63K6ZfaI5",
        "outputId": "6723fb7f-b97a-4b1e-e81d-7181b4881a29"
      },
      "outputs": [
        {
          "output_type": "stream",
          "name": "stdout",
          "text": [
            "90.0\n"
          ]
        }
      ],
      "source": [
        "preco=300\n",
        "def valor_imposto(preco):\n",
        "  return preco*0.3\n",
        "print(valor_imposto(preco))"
      ]
    },
    {
      "cell_type": "code",
      "source": [
        "preco1=300\n",
        "preco2=600\n",
        "\n",
        "imposto = lambda preco: preco * 0.3\n",
        "print(imposto(preco2))"
      ],
      "metadata": {
        "colab": {
          "base_uri": "https://localhost:8080/"
        },
        "id": "pvfe9KC8f_V9",
        "outputId": "6df50271-b703-46c9-b844-0487a89cc0db"
      },
      "execution_count": 5,
      "outputs": [
        {
          "output_type": "stream",
          "name": "stdout",
          "text": [
            "180.0\n"
          ]
        }
      ]
    },
    {
      "cell_type": "code",
      "source": [
        "#1 Retornar uma lista de valores pares de 1 à 20\n",
        "numeros = [ num for num in range(0,21)]\n",
        "print(numeros)\n",
        "list(filter(lambda num: num % 2 == 0, numeros))"
      ],
      "metadata": {
        "colab": {
          "base_uri": "https://localhost:8080/"
        },
        "id": "z786TcX8lCyu",
        "outputId": "9ece0688-80b9-4140-cd48-00bb3b0d1b22"
      },
      "execution_count": 6,
      "outputs": [
        {
          "output_type": "stream",
          "name": "stdout",
          "text": [
            "[0, 1, 2, 3, 4, 5, 6, 7, 8, 9, 10, 11, 12, 13, 14, 15, 16, 17, 18, 19, 20]\n"
          ]
        }
      ]
    },
    {
      "cell_type": "code",
      "source": [
        "#2 Retornar uma lista de valores impares de 30 à 50\n",
        "numeros = [num for num in range(30,51)]\n",
        "list(filter(lambda num: num % 2 == 1, numeros))"
      ],
      "metadata": {
        "colab": {
          "base_uri": "https://localhost:8080/"
        },
        "id": "rdk_uA4CogRw",
        "outputId": "3609e6d8-214e-4f72-870d-c0eaa52e8dc0"
      },
      "execution_count": 7,
      "outputs": [
        {
          "output_type": "execute_result",
          "data": {
            "text/plain": [
              "[31, 33, 35, 37, 39, 41, 43, 45, 47, 49]"
            ]
          },
          "metadata": {},
          "execution_count": 7
        }
      ]
    },
    {
      "cell_type": "code",
      "source": [
        "#3 Retornar todos os números menores que zero do intervalo range(-10, 10)\n",
        "negativos = [num for num in range(-10, 11)]\n",
        "print(negativos)\n",
        "list(filter(lambda num: num < 0 and num > -11, negativos))"
      ],
      "metadata": {
        "colab": {
          "base_uri": "https://localhost:8080/"
        },
        "id": "XYHUfJZhppwV",
        "outputId": "9bbf6783-e198-4ac7-a783-f09b24c425b2"
      },
      "execution_count": 9,
      "outputs": [
        {
          "output_type": "stream",
          "name": "stdout",
          "text": [
            "[-10, -9, -8, -7, -6, -5, -4, -3, -2, -1, 0, 1, 2, 3, 4, 5, 6, 7, 8, 9, 10]\n"
          ]
        },
        {
          "output_type": "execute_result",
          "data": {
            "text/plain": [
              "[-10, -9, -8, -7, -6, -5, -4, -3, -2, -1]"
            ]
          },
          "metadata": {},
          "execution_count": 9
        }
      ]
    },
    {
      "cell_type": "code",
      "source": [
        "#4 Retornar o menor número de uma lista\n",
        "from functools import reduce\n",
        "numeros = [ 230,52,36,896,2,75,-32]\n",
        "reduce(lambda x, y: x if x < y else y, numeros)"
      ],
      "metadata": {
        "colab": {
          "base_uri": "https://localhost:8080/"
        },
        "id": "v0XGKDrjslWp",
        "outputId": "da862549-87ee-437a-93b8-0836615ef38b"
      },
      "execution_count": 10,
      "outputs": [
        {
          "output_type": "execute_result",
          "data": {
            "text/plain": [
              "-32"
            ]
          },
          "metadata": {},
          "execution_count": 10
        }
      ]
    },
    {
      "cell_type": "code",
      "source": [
        "#6 Ordenar a lista de nomes pela 2ª letra de cada nome (ordem crescente)\n",
        "nomes = [\"Samuel\", \"Denise\", \"Beatriz\", \"Marcus\"]\n",
        "nomes.sort(key=lambda palavra: palavra[1])\n",
        "nomes"
      ],
      "metadata": {
        "colab": {
          "base_uri": "https://localhost:8080/"
        },
        "id": "4vlSumXFzx51",
        "outputId": "ec417ceb-928f-456b-e712-f42ae2ac5ce4"
      },
      "execution_count": 11,
      "outputs": [
        {
          "output_type": "execute_result",
          "data": {
            "text/plain": [
              "['Samuel', 'Marcus', 'Denise', 'Beatriz']"
            ]
          },
          "metadata": {},
          "execution_count": 11
        }
      ]
    },
    {
      "cell_type": "code",
      "source": [
        "#7 Ordenar a lista de nomes pela 2ª letra de cada nome (ordem decrescente)\n",
        "nomes = [\"Rafael\", \"Denise\", \"Beatriz\", \"Marcus\"]\n",
        "nomes.sort(key=lambda palavra: palavra[1], reverse=True)\n",
        "nomes"
      ],
      "metadata": {
        "colab": {
          "base_uri": "https://localhost:8080/"
        },
        "id": "qoiQFixU1dpi",
        "outputId": "f46633b6-01c2-43f0-d967-8d1f20195e2e"
      },
      "execution_count": 13,
      "outputs": [
        {
          "output_type": "execute_result",
          "data": {
            "text/plain": [
              "['Denise', 'Beatriz', 'Rafael', 'Marcus']"
            ]
          },
          "metadata": {},
          "execution_count": 13
        }
      ]
    },
    {
      "cell_type": "code",
      "source": [
        "#8 Diante de uma lista de números, multiplicar por 10 se o número for par e dividir por 3 se o número for impar. Utilizar a função round() para limitar a duas casas decimais.\n",
        "\n",
        "numeros=[ num for num in range (1, 11)]\n",
        "print(numeros)\n",
        "list(map(lambda num: num*10 if num % 2 == 0 else round(num / 3, 2), numeros))"
      ],
      "metadata": {
        "colab": {
          "base_uri": "https://localhost:8080/"
        },
        "id": "UrraeoPW3blX",
        "outputId": "3a098de4-ffff-4665-873e-dfbe6c372fd7"
      },
      "execution_count": 14,
      "outputs": [
        {
          "output_type": "stream",
          "name": "stdout",
          "text": [
            "[1, 2, 3, 4, 5, 6, 7, 8, 9, 10]\n"
          ]
        },
        {
          "output_type": "execute_result",
          "data": {
            "text/plain": [
              "[0.33, 20, 1.0, 40, 1.67, 60, 2.33, 80, 3.0, 100]"
            ]
          },
          "metadata": {},
          "execution_count": 14
        }
      ]
    }
  ]
}