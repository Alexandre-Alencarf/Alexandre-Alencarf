{
  "nbformat": 4,
  "nbformat_minor": 0,
  "metadata": {
    "colab": {
      "provenance": [],
      "authorship_tag": "ABX9TyPI0mGDfTBstKsM/bHDAHvD",
      "include_colab_link": true
    },
    "kernelspec": {
      "name": "python3",
      "display_name": "Python 3"
    },
    "language_info": {
      "name": "python"
    }
  },
  "cells": [
    {
      "cell_type": "markdown",
      "metadata": {
        "id": "view-in-github",
        "colab_type": "text"
      },
      "source": [
        "<a href=\"https://colab.research.google.com/github/Alexandre-Alencarf/Alexandre-Alencarf/blob/main/Untitled0.ipynb\" target=\"_parent\"><img src=\"https://colab.research.google.com/assets/colab-badge.svg\" alt=\"Open In Colab\"/></a>"
      ]
    },
    {
      "cell_type": "code",
      "source": [
        "!pip install pandas"
      ],
      "metadata": {
        "colab": {
          "base_uri": "https://localhost:8080/"
        },
        "id": "dUcCq6NVdzN1",
        "outputId": "919bb9c4-8e8f-40f7-c561-d4c605902c2e"
      },
      "execution_count": null,
      "outputs": [
        {
          "output_type": "stream",
          "name": "stdout",
          "text": [
            "Looking in indexes: https://pypi.org/simple, https://us-python.pkg.dev/colab-wheels/public/simple/\n",
            "Requirement already satisfied: pandas in /usr/local/lib/python3.8/dist-packages (1.3.5)\n",
            "Requirement already satisfied: numpy>=1.17.3 in /usr/local/lib/python3.8/dist-packages (from pandas) (1.22.4)\n",
            "Requirement already satisfied: python-dateutil>=2.7.3 in /usr/local/lib/python3.8/dist-packages (from pandas) (2.8.2)\n",
            "Requirement already satisfied: pytz>=2017.3 in /usr/local/lib/python3.8/dist-packages (from pandas) (2022.7.1)\n",
            "Requirement already satisfied: six>=1.5 in /usr/local/lib/python3.8/dist-packages (from python-dateutil>=2.7.3->pandas) (1.15.0)\n"
          ]
        }
      ]
    },
    {
      "cell_type": "code",
      "source": [
        "import pandas as pd\n"
      ],
      "metadata": {
        "id": "s5f5SHRXeACE"
      },
      "execution_count": null,
      "outputs": []
    },
    {
      "cell_type": "code",
      "source": [
        "lista = [1,2,3,4,5]\n",
        "(lista)"
      ],
      "metadata": {
        "colab": {
          "base_uri": "https://localhost:8080/"
        },
        "id": "khpYz-1NeOEr",
        "outputId": "f770896f-622f-4b56-f279-411f8be8c13f"
      },
      "execution_count": null,
      "outputs": [
        {
          "output_type": "execute_result",
          "data": {
            "text/plain": [
              "[1, 2, 3, 4, 5]"
            ]
          },
          "metadata": {},
          "execution_count": 7
        }
      ]
    },
    {
      "cell_type": "code",
      "source": [
        "pd.Series(lista)"
      ],
      "metadata": {
        "colab": {
          "base_uri": "https://localhost:8080/"
        },
        "id": "DYdR4gNrfSgZ",
        "outputId": "6473530a-fb22-4adb-9bfb-251c42a550d3"
      },
      "execution_count": null,
      "outputs": [
        {
          "output_type": "execute_result",
          "data": {
            "text/plain": [
              "0    1\n",
              "1    2\n",
              "2    3\n",
              "3    4\n",
              "4    5\n",
              "dtype: int64"
            ]
          },
          "metadata": {},
          "execution_count": 9
        }
      ]
    },
    {
      "cell_type": "code",
      "source": [
        "serie1 = pd.Series(lista)\n",
        "print(serie1)"
      ],
      "metadata": {
        "colab": {
          "base_uri": "https://localhost:8080/"
        },
        "id": "6YmQ_NVOgGcw",
        "outputId": "bc916a43-2c29-4f12-f889-19a19473eca3"
      },
      "execution_count": null,
      "outputs": [
        {
          "output_type": "stream",
          "name": "stdout",
          "text": [
            "0    1\n",
            "1    2\n",
            "2    3\n",
            "3    4\n",
            "4    5\n",
            "dtype: int64\n"
          ]
        }
      ]
    },
    {
      "cell_type": "markdown",
      "source": [
        "# ATIVIDADE 01\n",
        "# Crie uma lista com cinco nomes (informados pelo usuário)\n",
        "# e transforme essa lista em uma Series do Pandas.\n",
        "# Ao final, imprima o TIPO da Series.\n"
      ],
      "metadata": {
        "id": "RdDsh_bsghgo"
      }
    },
    {
      "cell_type": "code",
      "source": [
        "lista = []\n",
        "for i in range(0,5,1):\n",
        "  nome = input(f\"Digite o {i+1} nome: \")\n",
        "  lista.append(nome)\n",
        "  print(lista)"
      ],
      "metadata": {
        "colab": {
          "base_uri": "https://localhost:8080/"
        },
        "id": "yLOtvxxuhhCM",
        "outputId": "602c3992-365f-411f-e3d1-ee21b6239a8a"
      },
      "execution_count": null,
      "outputs": [
        {
          "output_type": "stream",
          "name": "stdout",
          "text": [
            "Digite o 1 nome: Alexandre\n",
            "['Alexandre']\n",
            "Digite o 2 nome: Leonardo\n",
            "['Alexandre', 'Leonardo']\n",
            "Digite o 3 nome: Eduardo\n",
            "['Alexandre', 'Leonardo', 'Eduardo']\n",
            "Digite o 4 nome: Nayana\n",
            "['Alexandre', 'Leonardo', 'Eduardo', 'Nayana']\n",
            "Digite o 5 nome: Ivone\n",
            "['Alexandre', 'Leonardo', 'Eduardo', 'Nayana', 'Ivone']\n"
          ]
        }
      ]
    },
    {
      "cell_type": "code",
      "source": [
        "pd.Series(lista)"
      ],
      "metadata": {
        "colab": {
          "base_uri": "https://localhost:8080/"
        },
        "id": "brL_MwkRiX1p",
        "outputId": "000db63c-56ac-4002-ceef-081042449c93"
      },
      "execution_count": null,
      "outputs": [
        {
          "output_type": "execute_result",
          "data": {
            "text/plain": [
              "0    Alexandre\n",
              "1     Leonardo\n",
              "2      Eduardo\n",
              "3       Nayana\n",
              "4        Ivone\n",
              "dtype: object"
            ]
          },
          "metadata": {},
          "execution_count": 22
        }
      ]
    },
    {
      "cell_type": "code",
      "source": [
        "serie1 = pd.Series(lista)"
      ],
      "metadata": {
        "id": "EgG3YqaBisEa"
      },
      "execution_count": null,
      "outputs": []
    },
    {
      "cell_type": "code",
      "source": [
        "print(type(serie1))"
      ],
      "metadata": {
        "colab": {
          "base_uri": "https://localhost:8080/"
        },
        "id": "k8uhSax2iz3C",
        "outputId": "71eb87b5-82d6-4d96-e608-4b0141b8f4a2"
      },
      "execution_count": null,
      "outputs": [
        {
          "output_type": "stream",
          "name": "stdout",
          "text": [
            "<class 'pandas.core.series.Series'>\n"
          ]
        }
      ]
    },
    {
      "cell_type": "markdown",
      "source": [
        "# ATIVIDADE 02\n",
        "# Gere uma lista com 1000 números aleatórios. (dica: biblioteca random)\n",
        "# Tranforme a lista em uma Series e utilizando os métodos do Pandas, encontre:\n",
        "# 1) A soma do valores\n",
        "# 2) O valor máximo\n",
        "# 3) O valor mínimo\n",
        "# 4) A média\n",
        "# 5) e a moda\n",
        "# por fim, em uma nova célula, mostre todos os detalhes estatísticos.\n"
      ],
      "metadata": {
        "id": "922pv6v3sbC-"
      }
    },
    {
      "cell_type": "code",
      "source": [
        "lista1000 = []\n",
        "import random\n",
        "from random import randint\n",
        "for i in range(0,1000,1):\n",
        "  numeros = random.randint(1,1000)\n",
        "  lista1000.append(numeros)\n",
        "print(lista1000)"
      ],
      "metadata": {
        "id": "UBt_0AnEs_sl",
        "colab": {
          "base_uri": "https://localhost:8080/"
        },
        "outputId": "d4d76ad2-1bb5-4aeb-f0bc-e9fc11bd8b26"
      },
      "execution_count": 42,
      "outputs": [
        {
          "output_type": "stream",
          "name": "stdout",
          "text": [
            "[862, 15, 168, 886, 196, 365, 229, 138, 564, 174, 759, 736, 622, 808, 280, 185, 193, 537, 664, 907, 360, 492, 14, 684, 771, 697, 362, 557, 563, 885, 227, 567, 423, 120, 87, 674, 610, 177, 633, 813, 284, 370, 358, 161, 428, 830, 497, 65, 794, 668, 169, 180, 70, 715, 352, 749, 136, 759, 121, 694, 147, 330, 228, 969, 85, 223, 422, 773, 713, 950, 243, 689, 134, 607, 198, 587, 281, 300, 301, 76, 265, 9, 832, 134, 663, 768, 638, 768, 385, 209, 863, 34, 596, 789, 767, 815, 260, 338, 565, 557, 679, 346, 430, 602, 686, 929, 587, 536, 913, 360, 279, 870, 772, 312, 227, 812, 383, 783, 175, 656, 457, 131, 273, 727, 379, 125, 173, 857, 716, 319, 929, 936, 728, 475, 120, 535, 308, 710, 445, 593, 51, 478, 872, 119, 286, 890, 158, 447, 956, 912, 448, 504, 222, 575, 380, 833, 470, 855, 288, 174, 209, 263, 46, 175, 79, 378, 222, 580, 29, 188, 409, 998, 641, 16, 941, 248, 486, 606, 503, 131, 138, 942, 404, 333, 394, 593, 163, 127, 268, 428, 636, 651, 221, 969, 990, 406, 626, 373, 708, 848, 562, 906, 319, 450, 411, 556, 420, 303, 960, 448, 861, 546, 562, 392, 143, 593, 801, 762, 156, 364, 331, 777, 58, 881, 825, 668, 216, 549, 816, 602, 94, 867, 918, 767, 62, 876, 444, 957, 742, 308, 874, 432, 997, 609, 923, 590, 604, 126, 219, 475, 605, 907, 904, 812, 681, 895, 482, 934, 232, 273, 588, 88, 139, 164, 59, 906, 658, 563, 480, 889, 390, 982, 82, 863, 811, 750, 187, 792, 875, 741, 956, 44, 920, 722, 115, 65, 212, 797, 270, 267, 23, 82, 942, 838, 647, 585, 474, 800, 307, 534, 612, 95, 367, 91, 134, 871, 957, 566, 704, 190, 789, 57, 15, 253, 554, 832, 444, 129, 69, 561, 513, 537, 139, 540, 657, 631, 411, 287, 285, 758, 249, 13, 591, 368, 543, 816, 844, 936, 641, 405, 301, 823, 330, 60, 266, 105, 212, 414, 665, 49, 142, 956, 141, 888, 412, 358, 903, 164, 683, 610, 433, 485, 88, 820, 533, 385, 397, 28, 110, 487, 1000, 245, 823, 846, 540, 782, 908, 68, 379, 944, 116, 689, 98, 625, 696, 168, 886, 256, 324, 385, 727, 114, 82, 766, 282, 423, 905, 769, 797, 73, 476, 395, 657, 361, 732, 652, 607, 244, 899, 409, 605, 243, 961, 279, 254, 269, 149, 800, 365, 255, 80, 331, 388, 394, 715, 879, 632, 351, 508, 771, 347, 338, 289, 21, 734, 74, 514, 386, 397, 286, 940, 56, 814, 615, 955, 773, 399, 131, 549, 756, 556, 517, 613, 479, 967, 44, 477, 470, 464, 885, 81, 764, 529, 867, 718, 384, 622, 268, 964, 508, 153, 700, 544, 208, 919, 806, 545, 952, 421, 980, 753, 630, 955, 770, 27, 512, 621, 70, 1000, 605, 415, 448, 478, 718, 597, 517, 545, 815, 539, 703, 701, 399, 171, 908, 19, 973, 244, 281, 649, 98, 663, 716, 421, 595, 989, 529, 753, 459, 120, 422, 171, 362, 226, 77, 570, 403, 630, 523, 549, 138, 237, 460, 412, 662, 463, 372, 70, 560, 17, 93, 918, 192, 431, 103, 905, 317, 593, 615, 526, 977, 104, 619, 538, 248, 800, 896, 614, 964, 938, 455, 194, 392, 911, 652, 883, 524, 807, 869, 389, 15, 594, 279, 79, 704, 47, 264, 368, 721, 824, 399, 873, 846, 715, 920, 186, 168, 584, 486, 89, 604, 890, 17, 696, 88, 952, 141, 360, 142, 340, 531, 499, 827, 890, 677, 661, 787, 695, 975, 231, 509, 408, 907, 853, 581, 899, 153, 207, 522, 420, 718, 220, 998, 652, 85, 329, 557, 464, 273, 396, 2, 560, 160, 482, 610, 287, 924, 337, 885, 452, 514, 62, 556, 612, 475, 417, 531, 448, 712, 145, 144, 229, 188, 575, 893, 463, 246, 251, 636, 440, 932, 965, 316, 745, 225, 988, 493, 977, 546, 173, 655, 685, 301, 730, 207, 774, 434, 576, 5, 927, 96, 898, 995, 398, 509, 794, 910, 963, 266, 774, 633, 97, 655, 244, 527, 851, 494, 247, 289, 644, 409, 550, 75, 798, 300, 673, 721, 843, 95, 733, 68, 686, 663, 701, 547, 730, 479, 828, 525, 361, 164, 409, 377, 717, 977, 436, 590, 336, 696, 40, 387, 907, 245, 472, 859, 464, 324, 259, 221, 269, 519, 529, 664, 204, 872, 308, 302, 278, 450, 892, 511, 753, 507, 195, 834, 664, 759, 329, 405, 328, 671, 80, 70, 866, 435, 879, 638, 344, 240, 279, 521, 664, 846, 597, 656, 801, 752, 508, 504, 431, 359, 394, 487, 98, 159, 704, 888, 661, 833, 64, 359, 584, 368, 547, 798, 713, 956, 512, 25, 812, 955, 217, 803, 971, 294, 204, 89, 618, 637, 663, 738, 858, 26, 704, 218, 374, 32, 787, 15, 632, 678, 573, 177, 415, 720, 733, 224, 178, 866, 111, 694, 232, 318, 515, 541, 483, 38, 310, 658, 645, 685, 842, 541, 218, 610, 852, 362, 495, 583, 744, 416, 31, 29, 739, 817, 799, 289, 170, 79, 653, 615, 521, 453, 505, 350, 232, 983, 44, 249, 11, 219, 483, 92, 887, 844, 481, 612, 89, 990, 68, 827, 741, 462, 922, 31, 349, 218, 692, 179, 345, 953, 382, 591, 482, 229, 939, 225, 145, 56, 962, 229, 861, 354, 97, 898, 503, 508, 973, 69, 881, 786, 115, 545, 724, 538, 688, 735, 968, 480, 995, 820, 881, 218, 39, 20, 315, 81, 566, 544, 109, 1000, 568, 186, 876, 139, 757, 501, 696, 851, 897, 138, 217, 983, 350, 466, 78, 518, 341, 216, 605, 662, 262, 347, 564, 566, 417, 639, 37, 297, 613, 786, 579, 530, 220, 388, 512, 756, 846, 889, 442, 933, 984, 703, 256, 219, 644, 871, 492, 384, 426, 788, 729, 699, 172, 752, 210, 26, 54, 291, 406, 252, 721, 966, 383, 808, 458, 208, 686, 47, 161, 725]\n"
          ]
        }
      ]
    },
    {
      "cell_type": "code",
      "source": [],
      "metadata": {
        "id": "0iah0VYl0fq2"
      },
      "execution_count": null,
      "outputs": []
    },
    {
      "cell_type": "code",
      "source": [
        "pd.Series(lista1000)\n",
        "serie1000 = pd.Series(lista1000)\n"
      ],
      "metadata": {
        "id": "pOdFEiAH01-i"
      },
      "execution_count": 43,
      "outputs": []
    },
    {
      "cell_type": "code",
      "source": [
        "soma = serie1000.sum()\n",
        "print(soma)"
      ],
      "metadata": {
        "colab": {
          "base_uri": "https://localhost:8080/"
        },
        "id": "ZkBIZhjl2lQK",
        "outputId": "f52a923e-2b7c-4bd5-a525-e6939a4f009c"
      },
      "execution_count": 44,
      "outputs": [
        {
          "output_type": "stream",
          "name": "stdout",
          "text": [
            "500895\n"
          ]
        }
      ]
    },
    {
      "cell_type": "code",
      "source": [
        "maximo = serie1000.max()\n",
        "print(maximo)"
      ],
      "metadata": {
        "colab": {
          "base_uri": "https://localhost:8080/"
        },
        "id": "yfFL13GB3JMR",
        "outputId": "938653b8-d2dd-4fff-a579-82c5b58dfc64"
      },
      "execution_count": 45,
      "outputs": [
        {
          "output_type": "stream",
          "name": "stdout",
          "text": [
            "1000\n"
          ]
        }
      ]
    },
    {
      "cell_type": "code",
      "source": [
        "minimo = serie1000.min()\n",
        "print(minimo)"
      ],
      "metadata": {
        "colab": {
          "base_uri": "https://localhost:8080/"
        },
        "id": "4dE4t9vg52jM",
        "outputId": "b93a8001-2fd3-4f4d-c3fd-c40c8eab6f35"
      },
      "execution_count": 46,
      "outputs": [
        {
          "output_type": "stream",
          "name": "stdout",
          "text": [
            "2\n"
          ]
        }
      ]
    },
    {
      "cell_type": "code",
      "source": [
        "media = serie1000.mean()\n",
        "print(media)"
      ],
      "metadata": {
        "colab": {
          "base_uri": "https://localhost:8080/"
        },
        "id": "dIjrD4zh6JmU",
        "outputId": "a99bd2e5-1f7c-461b-95bf-ed6a44a9dcca"
      },
      "execution_count": 48,
      "outputs": [
        {
          "output_type": "stream",
          "name": "stdout",
          "text": [
            "500.895\n"
          ]
        }
      ]
    },
    {
      "cell_type": "code",
      "source": [
        "moda = serie1000.mode()\n",
        "print(moda)"
      ],
      "metadata": {
        "colab": {
          "base_uri": "https://localhost:8080/"
        },
        "id": "ZmZUoxVF6igq",
        "outputId": "658773b4-5915-429f-f182-244c7a5d3dec"
      },
      "execution_count": 49,
      "outputs": [
        {
          "output_type": "stream",
          "name": "stdout",
          "text": [
            "0      15\n",
            "1      70\n",
            "2     138\n",
            "3     218\n",
            "4     229\n",
            "5     279\n",
            "6     409\n",
            "7     448\n",
            "8     508\n",
            "9     593\n",
            "10    605\n",
            "11    610\n",
            "12    663\n",
            "13    664\n",
            "14    696\n",
            "15    704\n",
            "16    846\n",
            "17    907\n",
            "18    956\n",
            "dtype: int64\n"
          ]
        }
      ]
    },
    {
      "cell_type": "code",
      "source": [
        "serie1000.describe()"
      ],
      "metadata": {
        "colab": {
          "base_uri": "https://localhost:8080/"
        },
        "id": "dMVXLdtQ6sHw",
        "outputId": "e1ddb90c-3b3d-4c77-dd9f-cae14933d4d5"
      },
      "execution_count": 50,
      "outputs": [
        {
          "output_type": "execute_result",
          "data": {
            "text/plain": [
              "count    1000.000000\n",
              "mean      500.895000\n",
              "std       280.624928\n",
              "min         2.000000\n",
              "25%       256.000000\n",
              "50%       508.000000\n",
              "75%       732.250000\n",
              "max      1000.000000\n",
              "dtype: float64"
            ]
          },
          "metadata": {},
          "execution_count": 50
        }
      ]
    }
  ]
}